{
 "cells": [
  {
   "cell_type": "code",
   "execution_count": null,
   "metadata": {},
   "outputs": [],
   "source": [
    "from rich import inspect # not needed to run, ony importede here to pretty-print results\n",
    "import os\n",
    "from pathlib import Path"
   ]
  },
  {
   "cell_type": "markdown",
   "metadata": {},
   "source": [
    "Import electricpie"
   ]
  },
  {
   "cell_type": "code",
   "execution_count": null,
   "metadata": {},
   "outputs": [],
   "source": [
    "from electricpie.classes.electricpie import Electricpie"
   ]
  },
  {
   "cell_type": "markdown",
   "metadata": {},
   "source": [
    "Make new instance of the `Electricpie` class and provide an **empty** working directory. If left blank (e.g. `my_object = Electricpie()`) the working directory will be set to whichever temporary directory Python chooses (using `tempfile.TemporaryDirectory()`)."
   ]
  },
  {
   "cell_type": "code",
   "execution_count": null,
   "metadata": {},
   "outputs": [],
   "source": [
    "my_object = Electricpie(workdir=\"/home/chase/Downloads/temp\")"
   ]
  },
  {
   "cell_type": "markdown",
   "metadata": {},
   "source": [
    "Download and install miniconda into the working directory using the following commands"
   ]
  },
  {
   "cell_type": "code",
   "execution_count": null,
   "metadata": {},
   "outputs": [],
   "source": [
    "my_object.download_miniconda3()\n",
    "my_object.install_miniconda()"
   ]
  },
  {
   "cell_type": "markdown",
   "metadata": {},
   "source": [
    "Create a conda environment for the Shiny app"
   ]
  },
  {
   "cell_type": "code",
   "execution_count": null,
   "metadata": {},
   "outputs": [],
   "source": [
    "my_object.conda_create_env(\"eshine\")"
   ]
  },
  {
   "cell_type": "markdown",
   "metadata": {},
   "source": [
    "Install R into that conda environment"
   ]
  },
  {
   "cell_type": "code",
   "execution_count": null,
   "metadata": {},
   "outputs": [],
   "source": [
    "my_object.install_r(env_name=\"eshine\", r_version=\"4.0.0\")"
   ]
  },
  {
   "cell_type": "markdown",
   "metadata": {},
   "source": [
    "If you need any other dependencies that are available through conda you can install them now. For example:"
   ]
  },
  {
   "cell_type": "code",
   "execution_count": null,
   "metadata": {},
   "outputs": [],
   "source": [
    "# my_object.conda_install(env_name=\"eshine\", package=\"nextflow==21.10.0\", repo=\"bioconda\")"
   ]
  },
  {
   "cell_type": "markdown",
   "metadata": {},
   "source": [
    "Install the {renv} R package"
   ]
  },
  {
   "cell_type": "code",
   "execution_count": null,
   "metadata": {},
   "outputs": [],
   "source": [
    "my_object.install_r_package(env_name=\"eshine\", r_package_name=\"renv\")"
   ]
  },
  {
   "cell_type": "code",
   "execution_count": 54,
   "metadata": {},
   "outputs": [
    {
     "data": {
      "text/html": [
       "<pre style=\"white-space:pre;overflow-x:auto;line-height:normal;font-family:Menlo,'DejaVu Sans Mono',consolas,'Courier New',monospace\"><span style=\"color: #7fbfbf; text-decoration-color: #7fbfbf\">[10:59:04] </span><span style=\"color: #000080; text-decoration-color: #000080\">INFO    </span> <span style=\"color: #800080; text-decoration-color: #800080\">/home/chase/Downloads/temp/conda_topdir/bin/</span><span style=\"color: #ff00ff; text-decoration-color: #ff00ff\">conda</span> run   <a href=\"file:///home/chase/miniconda3/envs/socialgene/lib/python3.9/site-packages/electricpie-0.0.0-py3.9.egg/electricpie/utils/run_command.py\"><span style=\"color: #7f7f7f; text-decoration-color: #7f7f7f\">run_command.py</span></a><span style=\"color: #7f7f7f; text-decoration-color: #7f7f7f\">:32</span>\n",
       "                    -n eshine --live-stream <span style=\"color: #800080; text-decoration-color: #800080\">/home/chase/Downloads/temp/cond</span>                  \n",
       "                    <span style=\"color: #800080; text-decoration-color: #800080\">a_topdir/envs/eshine/lib/R/bin/</span><span style=\"color: #ff00ff; text-decoration-color: #ff00ff\">Rscript</span> -e                                \n",
       "                    renv::<span style=\"color: #800080; text-decoration-color: #800080; font-weight: bold\">consent</span><span style=\"font-weight: bold\">(</span><span style=\"color: #808000; text-decoration-color: #808000\">provided</span>=<span style=\"color: #800080; text-decoration-color: #800080\">TRUE</span><span style=\"font-weight: bold\">)</span>; renv::<span style=\"color: #800080; text-decoration-color: #800080; font-weight: bold\">init</span><span style=\"font-weight: bold\">(</span>project =<span style=\"color: #008000; text-decoration-color: #008000\">\"None</span>                  \n",
       "                    <span style=\"color: #008000; text-decoration-color: #008000\">\"</span>,<span style=\"color: #808000; text-decoration-color: #808000\">settings</span>=<span style=\"color: #800080; text-decoration-color: #800080; font-weight: bold\">list</span><span style=\"font-weight: bold\">(</span>external.<span style=\"color: #808000; text-decoration-color: #808000\">libraries</span>=<span style=\"color: #008000; text-decoration-color: #008000\">\"/home/chase/Downloa</span>                  \n",
       "                    <span style=\"color: #008000; text-decoration-color: #008000\">ds/temp/conda_topdir/envs/eshine/lib/R/library\"</span>,use.cac                  \n",
       "                    he =FALSE,vcs.ignore.<span style=\"color: #808000; text-decoration-color: #808000\">library</span>=<span style=\"color: #800080; text-decoration-color: #800080\">TRUE</span>,package.dependency.<span style=\"color: #808000; text-decoration-color: #808000\">fi</span>                  \n",
       "                    <span style=\"color: #808000; text-decoration-color: #808000\">elds</span>=<span style=\"color: #800080; text-decoration-color: #800080; font-weight: bold\">c</span><span style=\"font-weight: bold\">(</span><span style=\"color: #008000; text-decoration-color: #008000\">\"Imports\"</span>,<span style=\"color: #008000; text-decoration-color: #008000\">\"Depends\"</span>,<span style=\"color: #008000; text-decoration-color: #008000\">\"LinkingTo\"</span><span style=\"font-weight: bold\">))</span>,<span style=\"color: #808000; text-decoration-color: #808000\">bare</span>=<span style=\"color: #800080; text-decoration-color: #800080\">TRUE</span>,<span style=\"color: #808000; text-decoration-color: #808000\">rest</span>                  \n",
       "                    <span style=\"color: #808000; text-decoration-color: #808000\">art</span>=<span style=\"color: #800080; text-decoration-color: #800080\">FALSE</span><span style=\"font-weight: bold\">)</span>                                                               \n",
       "</pre>\n"
      ],
      "text/plain": [
       "\u001b[2;36m[10:59:04]\u001b[0m\u001b[2;36m \u001b[0m\u001b[34mINFO    \u001b[0m \u001b[35m/home/chase/Downloads/temp/conda_topdir/bin/\u001b[0m\u001b[95mconda\u001b[0m run   \u001b]8;id=364247;file:///home/chase/miniconda3/envs/socialgene/lib/python3.9/site-packages/electricpie-0.0.0-py3.9.egg/electricpie/utils/run_command.py\u001b\\\u001b[2mrun_command.py\u001b[0m\u001b]8;;\u001b\\\u001b[2m:32\u001b[0m\n",
       "                    -n eshine --live-stream \u001b[35m/home/chase/Downloads/temp/cond\u001b[0m                  \n",
       "                    \u001b[35ma_topdir/envs/eshine/lib/R/bin/\u001b[0m\u001b[95mRscript\u001b[0m -e                                \n",
       "                    renv::\u001b[1;35mconsent\u001b[0m\u001b[1m(\u001b[0m\u001b[33mprovided\u001b[0m=\u001b[35mTRUE\u001b[0m\u001b[1m)\u001b[0m; renv::\u001b[1;35minit\u001b[0m\u001b[1m(\u001b[0mproject =\u001b[32m\"None\u001b[0m                  \n",
       "                    \u001b[32m\"\u001b[0m,\u001b[33msettings\u001b[0m=\u001b[1;35mlist\u001b[0m\u001b[1m(\u001b[0mexternal.\u001b[33mlibraries\u001b[0m=\u001b[32m\"/home/chase/Downloa\u001b[0m                  \n",
       "                    \u001b[32mds/temp/conda_topdir/envs/eshine/lib/R/library\"\u001b[0m,use.cac                  \n",
       "                    he =FALSE,vcs.ignore.\u001b[33mlibrary\u001b[0m=\u001b[35mTRUE\u001b[0m,package.dependency.\u001b[33mfi\u001b[0m                  \n",
       "                    \u001b[33melds\u001b[0m=\u001b[1;35mc\u001b[0m\u001b[1m(\u001b[0m\u001b[32m\"Imports\"\u001b[0m,\u001b[32m\"Depends\"\u001b[0m,\u001b[32m\"LinkingTo\"\u001b[0m\u001b[1m)\u001b[0m\u001b[1m)\u001b[0m,\u001b[33mbare\u001b[0m=\u001b[35mTRUE\u001b[0m,\u001b[33mrest\u001b[0m                  \n",
       "                    \u001b[33mart\u001b[0m=\u001b[35mFALSE\u001b[0m\u001b[1m)\u001b[0m                                                               \n"
      ]
     },
     "metadata": {},
     "output_type": "display_data"
    },
    {
     "data": {
      "text/html": [
       "<pre style=\"white-space:pre;overflow-x:auto;line-height:normal;font-family:Menlo,'DejaVu Sans Mono',consolas,'Courier New',monospace\"><span style=\"color: #7fbfbf; text-decoration-color: #7fbfbf\">[10:59:05] </span><span style=\"color: #000080; text-decoration-color: #000080\">INFO    </span> * Consent to use renv has already been provided --      <a href=\"file:///home/chase/miniconda3/envs/socialgene/lib/python3.9/site-packages/electricpie-0.0.0-py3.9.egg/electricpie/utils/run_command.py\"><span style=\"color: #7f7f7f; text-decoration-color: #7f7f7f\">run_command.py</span></a><span style=\"color: #7f7f7f; text-decoration-color: #7f7f7f\">:34</span>\n",
       "                    nothing to do.                                                           \n",
       "                                                                                             \n",
       "</pre>\n"
      ],
      "text/plain": [
       "\u001b[2;36m[10:59:05]\u001b[0m\u001b[2;36m \u001b[0m\u001b[34mINFO    \u001b[0m * Consent to use renv has already been provided --      \u001b]8;id=269927;file:///home/chase/miniconda3/envs/socialgene/lib/python3.9/site-packages/electricpie-0.0.0-py3.9.egg/electricpie/utils/run_command.py\u001b\\\u001b[2mrun_command.py\u001b[0m\u001b]8;;\u001b\\\u001b[2m:34\u001b[0m\n",
       "                    nothing to do.                                                           \n",
       "                                                                                             \n"
      ]
     },
     "metadata": {},
     "output_type": "display_data"
    },
    {
     "data": {
      "text/html": [
       "<pre style=\"white-space:pre;overflow-x:auto;line-height:normal;font-family:Menlo,'DejaVu Sans Mono',consolas,'Courier New',monospace\"><span style=\"color: #008080; text-decoration-color: #008080; font-weight: bold\">2021</span>-<span style=\"color: #008080; text-decoration-color: #008080; font-weight: bold\">12</span>-18T<span style=\"color: #00ff00; text-decoration-color: #00ff00; font-weight: bold\">16:59:05</span>.<span style=\"color: #008080; text-decoration-color: #008080; font-weight: bold\">493987</span>      <span style=\"color: #800080; text-decoration-color: #800080\">/home/chase/Downloads/temp/conda_topdir/bin/</span><span style=\"color: #ff00ff; text-decoration-color: #ff00ff\">conda</span> run -n \n",
       "eshine --live-stream <span style=\"color: #800080; text-decoration-color: #800080\">/home/chase/Downloads/temp/conda_topdir/envs/eshine/lib/R/bin/</span><span style=\"color: #ff00ff; text-decoration-color: #ff00ff\">Rscript</span> -e\n",
       "renv::<span style=\"color: #800080; text-decoration-color: #800080; font-weight: bold\">consent</span><span style=\"font-weight: bold\">(</span><span style=\"color: #808000; text-decoration-color: #808000\">provided</span>=<span style=\"color: #800080; text-decoration-color: #800080\">TRUE</span><span style=\"font-weight: bold\">)</span>; renv::<span style=\"color: #800080; text-decoration-color: #800080; font-weight: bold\">init</span><span style=\"font-weight: bold\">(</span>project =<span style=\"color: #008000; text-decoration-color: #008000\">\"None\"</span>,<span style=\"color: #808000; text-decoration-color: #808000\">settings</span>=<span style=\"color: #800080; text-decoration-color: #800080; font-weight: bold\">list</span><span style=\"font-weight: bold\">(</span>external.<span style=\"color: #808000; text-decoration-color: #808000\">libraries</span>=<span style=\"color: #008000; text-decoration-color: #008000\">\"/h</span>\n",
       "<span style=\"color: #008000; text-decoration-color: #008000\">ome/chase/Downloads/temp/conda_topdir/envs/eshine/lib/R/library\"</span>,use.cache =FALSE,vcs.ignore.\n",
       "<span style=\"color: #808000; text-decoration-color: #808000\">library</span>=<span style=\"color: #800080; text-decoration-color: #800080\">TRUE</span>,package.dependency.<span style=\"color: #808000; text-decoration-color: #808000\">fields</span>=<span style=\"color: #800080; text-decoration-color: #800080; font-weight: bold\">c</span><span style=\"font-weight: bold\">(</span><span style=\"color: #008000; text-decoration-color: #008000\">\"Imports\"</span>,<span style=\"color: #008000; text-decoration-color: #008000\">\"Depends\"</span>,<span style=\"color: #008000; text-decoration-color: #008000\">\"LinkingTo\"</span><span style=\"font-weight: bold\">))</span>,<span style=\"color: #808000; text-decoration-color: #808000\">bare</span>=<span style=\"color: #800080; text-decoration-color: #800080\">TRUE</span>,<span style=\"color: #808000; text-decoration-color: #808000\">restart</span>=\n",
       "<span style=\"color: #800080; text-decoration-color: #800080\">FALSE</span><span style=\"font-weight: bold\">)</span>\n",
       "</pre>\n"
      ],
      "text/plain": [
       "\u001b[1;36m2021\u001b[0m-\u001b[1;36m12\u001b[0m-18T\u001b[1;92m16:59:05\u001b[0m.\u001b[1;36m493987\u001b[0m      \u001b[35m/home/chase/Downloads/temp/conda_topdir/bin/\u001b[0m\u001b[95mconda\u001b[0m run -n \n",
       "eshine --live-stream \u001b[35m/home/chase/Downloads/temp/conda_topdir/envs/eshine/lib/R/bin/\u001b[0m\u001b[95mRscript\u001b[0m -e\n",
       "renv::\u001b[1;35mconsent\u001b[0m\u001b[1m(\u001b[0m\u001b[33mprovided\u001b[0m=\u001b[35mTRUE\u001b[0m\u001b[1m)\u001b[0m; renv::\u001b[1;35minit\u001b[0m\u001b[1m(\u001b[0mproject =\u001b[32m\"None\"\u001b[0m,\u001b[33msettings\u001b[0m=\u001b[1;35mlist\u001b[0m\u001b[1m(\u001b[0mexternal.\u001b[33mlibraries\u001b[0m=\u001b[32m\"/h\u001b[0m\n",
       "\u001b[32mome/chase/Downloads/temp/conda_topdir/envs/eshine/lib/R/library\"\u001b[0m,use.cache =FALSE,vcs.ignore.\n",
       "\u001b[33mlibrary\u001b[0m=\u001b[35mTRUE\u001b[0m,package.dependency.\u001b[33mfields\u001b[0m=\u001b[1;35mc\u001b[0m\u001b[1m(\u001b[0m\u001b[32m\"Imports\"\u001b[0m,\u001b[32m\"Depends\"\u001b[0m,\u001b[32m\"LinkingTo\"\u001b[0m\u001b[1m)\u001b[0m\u001b[1m)\u001b[0m,\u001b[33mbare\u001b[0m=\u001b[35mTRUE\u001b[0m,\u001b[33mrestart\u001b[0m=\n",
       "\u001b[35mFALSE\u001b[0m\u001b[1m)\u001b[0m\n"
      ]
     },
     "metadata": {},
     "output_type": "display_data"
    }
   ],
   "source": [
    "my_object.renv_init(env_name=\"eshine\")"
   ]
  },
  {
   "cell_type": "markdown",
   "metadata": {},
   "source": [
    "Install your R package/Shiny app"
   ]
  },
  {
   "cell_type": "code",
   "execution_count": 55,
   "metadata": {},
   "outputs": [
    {
     "data": {
      "text/html": [
       "<pre style=\"white-space:pre;overflow-x:auto;line-height:normal;font-family:Menlo,'DejaVu Sans Mono',consolas,'Courier New',monospace\"><span style=\"color: #7fbfbf; text-decoration-color: #7fbfbf\">[10:59:19] </span><span style=\"color: #000080; text-decoration-color: #000080\">INFO    </span> <span style=\"color: #800080; text-decoration-color: #800080\">/home/chase/Downloads/temp/conda_topdir/bin/</span><span style=\"color: #ff00ff; text-decoration-color: #ff00ff\">conda</span> run   <a href=\"file:///home/chase/miniconda3/envs/socialgene/lib/python3.9/site-packages/electricpie-0.0.0-py3.9.egg/electricpie/utils/run_command.py\"><span style=\"color: #7f7f7f; text-decoration-color: #7f7f7f\">run_command.py</span></a><span style=\"color: #7f7f7f; text-decoration-color: #7f7f7f\">:32</span>\n",
       "                    -n eshine --live-stream <span style=\"color: #800080; text-decoration-color: #800080\">/home/chase/Downloads/temp/cond</span>                  \n",
       "                    <span style=\"color: #800080; text-decoration-color: #800080\">a_topdir/envs/eshine/lib/R/bin/</span><span style=\"color: #ff00ff; text-decoration-color: #ff00ff\">Rscript</span> -e                                \n",
       "                    renv::<span style=\"color: #800080; text-decoration-color: #800080; font-weight: bold\">install</span><span style=\"font-weight: bold\">(</span><span style=\"color: #008000; text-decoration-color: #008000\">'chasemc/demoapp'</span>, repos =                                 \n",
       "                    <span style=\"color: #008000; text-decoration-color: #008000\">'https://cran.r-project.org'</span>, lib = <span style=\"color: #008000; text-decoration-color: #008000\">'/home/chase/Downlo</span>                  \n",
       "                    <span style=\"color: #008000; text-decoration-color: #008000\">ads/temp/conda_topdir/envs/eshine/lib/R/library'</span>, force                  \n",
       "                    = FALSE, <span style=\"color: #808000; text-decoration-color: #808000\">project</span>= <span style=\"color: #008000; text-decoration-color: #008000\">'None'</span><span style=\"font-weight: bold\">)</span>                                                \n",
       "</pre>\n"
      ],
      "text/plain": [
       "\u001b[2;36m[10:59:19]\u001b[0m\u001b[2;36m \u001b[0m\u001b[34mINFO    \u001b[0m \u001b[35m/home/chase/Downloads/temp/conda_topdir/bin/\u001b[0m\u001b[95mconda\u001b[0m run   \u001b]8;id=670026;file:///home/chase/miniconda3/envs/socialgene/lib/python3.9/site-packages/electricpie-0.0.0-py3.9.egg/electricpie/utils/run_command.py\u001b\\\u001b[2mrun_command.py\u001b[0m\u001b]8;;\u001b\\\u001b[2m:32\u001b[0m\n",
       "                    -n eshine --live-stream \u001b[35m/home/chase/Downloads/temp/cond\u001b[0m                  \n",
       "                    \u001b[35ma_topdir/envs/eshine/lib/R/bin/\u001b[0m\u001b[95mRscript\u001b[0m -e                                \n",
       "                    renv::\u001b[1;35minstall\u001b[0m\u001b[1m(\u001b[0m\u001b[32m'chasemc/demoapp'\u001b[0m, repos =                                 \n",
       "                    \u001b[32m'https://cran.r-project.org'\u001b[0m, lib = \u001b[32m'/home/chase/Downlo\u001b[0m                  \n",
       "                    \u001b[32mads/temp/conda_topdir/envs/eshine/lib/R/library'\u001b[0m, force                  \n",
       "                    = FALSE, \u001b[33mproject\u001b[0m= \u001b[32m'None'\u001b[0m\u001b[1m)\u001b[0m                                                \n"
      ]
     },
     "metadata": {},
     "output_type": "display_data"
    },
    {
     "data": {
      "text/html": [
       "<pre style=\"white-space:pre;overflow-x:auto;line-height:normal;font-family:Menlo,'DejaVu Sans Mono',consolas,'Courier New',monospace\"><span style=\"color: #7fbfbf; text-decoration-color: #7fbfbf\">[10:59:22] </span><span style=\"color: #000080; text-decoration-color: #000080\">INFO    </span> Installing Rcpp <span style=\"font-weight: bold\">[</span><span style=\"color: #008080; text-decoration-color: #008080; font-weight: bold\">1.0</span>.<span style=\"color: #008080; text-decoration-color: #008080; font-weight: bold\">7</span><span style=\"font-weight: bold\">]</span> <span style=\"color: #808000; text-decoration-color: #808000\">...</span>                             <a href=\"file:///home/chase/miniconda3/envs/socialgene/lib/python3.9/site-packages/electricpie-0.0.0-py3.9.egg/electricpie/utils/run_command.py\"><span style=\"color: #7f7f7f; text-decoration-color: #7f7f7f\">run_command.py</span></a><span style=\"color: #7f7f7f; text-decoration-color: #7f7f7f\">:34</span>\n",
       "                            OK <span style=\"font-weight: bold\">[</span>copied cache<span style=\"font-weight: bold\">]</span>                                                \n",
       "                    Installing R6 <span style=\"font-weight: bold\">[</span><span style=\"color: #008080; text-decoration-color: #008080; font-weight: bold\">2.5</span>.<span style=\"color: #008080; text-decoration-color: #008080; font-weight: bold\">1</span><span style=\"font-weight: bold\">]</span> <span style=\"color: #808000; text-decoration-color: #808000\">...</span>                                                \n",
       "                            OK <span style=\"font-weight: bold\">[</span>copied cache<span style=\"font-weight: bold\">]</span>                                                \n",
       "                    Installing rlang <span style=\"font-weight: bold\">[</span><span style=\"color: #008080; text-decoration-color: #008080; font-weight: bold\">0.4</span>.<span style=\"color: #008080; text-decoration-color: #008080; font-weight: bold\">12</span><span style=\"font-weight: bold\">]</span> <span style=\"color: #808000; text-decoration-color: #808000\">...</span>                                            \n",
       "                            OK <span style=\"font-weight: bold\">[</span>copied cache<span style=\"font-weight: bold\">]</span>                                                \n",
       "                    Installing later <span style=\"font-weight: bold\">[</span><span style=\"color: #008080; text-decoration-color: #008080; font-weight: bold\">1.3</span>.<span style=\"color: #008080; text-decoration-color: #008080; font-weight: bold\">0</span><span style=\"font-weight: bold\">]</span> <span style=\"color: #808000; text-decoration-color: #808000\">...</span>                                             \n",
       "                            OK <span style=\"font-weight: bold\">[</span>copied cache<span style=\"font-weight: bold\">]</span>                                                \n",
       "                    Installing magrittr <span style=\"font-weight: bold\">[</span><span style=\"color: #008080; text-decoration-color: #008080; font-weight: bold\">2.0</span>.<span style=\"color: #008080; text-decoration-color: #008080; font-weight: bold\">1</span><span style=\"font-weight: bold\">]</span> <span style=\"color: #808000; text-decoration-color: #808000\">...</span>                                          \n",
       "                            OK <span style=\"font-weight: bold\">[</span>copied cache<span style=\"font-weight: bold\">]</span>                                                \n",
       "                    Installing promises <span style=\"font-weight: bold\">[</span><span style=\"color: #00ff00; text-decoration-color: #00ff00; font-weight: bold\">1.2.0.1</span><span style=\"font-weight: bold\">]</span> <span style=\"color: #808000; text-decoration-color: #808000\">...</span>                                        \n",
       "                            OK <span style=\"font-weight: bold\">[</span>copied cache<span style=\"font-weight: bold\">]</span>                                                \n",
       "                    Installing httpuv <span style=\"font-weight: bold\">[</span><span style=\"color: #008080; text-decoration-color: #008080; font-weight: bold\">1.6</span>.<span style=\"color: #008080; text-decoration-color: #008080; font-weight: bold\">4</span><span style=\"font-weight: bold\">]</span> <span style=\"color: #808000; text-decoration-color: #808000\">...</span>                                            \n",
       "                            OK <span style=\"font-weight: bold\">[</span>copied cache<span style=\"font-weight: bold\">]</span>                                                \n",
       "                    Installing mime <span style=\"font-weight: bold\">[</span><span style=\"color: #008080; text-decoration-color: #008080; font-weight: bold\">0.12</span><span style=\"font-weight: bold\">]</span> <span style=\"color: #808000; text-decoration-color: #808000\">...</span>                                               \n",
       "                            OK <span style=\"font-weight: bold\">[</span>copied cache<span style=\"font-weight: bold\">]</span>                                                \n",
       "                    Installing jsonlite <span style=\"font-weight: bold\">[</span><span style=\"color: #008080; text-decoration-color: #008080; font-weight: bold\">1.7</span>.<span style=\"color: #008080; text-decoration-color: #008080; font-weight: bold\">2</span><span style=\"font-weight: bold\">]</span> <span style=\"color: #808000; text-decoration-color: #808000\">...</span>                                          \n",
       "                            OK <span style=\"font-weight: bold\">[</span>copied cache<span style=\"font-weight: bold\">]</span>                                                \n",
       "                    Installing xtable <span style=\"font-weight: bold\">[</span><span style=\"color: #008080; text-decoration-color: #008080; font-weight: bold\">1.8</span>-<span style=\"color: #008080; text-decoration-color: #008080; font-weight: bold\">4</span><span style=\"font-weight: bold\">]</span> <span style=\"color: #808000; text-decoration-color: #808000\">...</span>                                            \n",
       "                            OK <span style=\"font-weight: bold\">[</span>copied cache<span style=\"font-weight: bold\">]</span>                                                \n",
       "                    Installing digest <span style=\"font-weight: bold\">[</span><span style=\"color: #008080; text-decoration-color: #008080; font-weight: bold\">0.6</span>.<span style=\"color: #008080; text-decoration-color: #008080; font-weight: bold\">29</span><span style=\"font-weight: bold\">]</span> <span style=\"color: #808000; text-decoration-color: #808000\">...</span>                                           \n",
       "                            OK <span style=\"font-weight: bold\">[</span>copied cache<span style=\"font-weight: bold\">]</span>                                                \n",
       "                    Installing base64enc <span style=\"font-weight: bold\">[</span><span style=\"color: #008080; text-decoration-color: #008080; font-weight: bold\">0.1</span>-<span style=\"color: #008080; text-decoration-color: #008080; font-weight: bold\">3</span><span style=\"font-weight: bold\">]</span> <span style=\"color: #808000; text-decoration-color: #808000\">...</span>                                         \n",
       "                            OK <span style=\"font-weight: bold\">[</span>copied cache<span style=\"font-weight: bold\">]</span>                                                \n",
       "                    Installing fastmap <span style=\"font-weight: bold\">[</span><span style=\"color: #008080; text-decoration-color: #008080; font-weight: bold\">1.1</span>.<span style=\"color: #008080; text-decoration-color: #008080; font-weight: bold\">0</span><span style=\"font-weight: bold\">]</span> <span style=\"color: #808000; text-decoration-color: #808000\">...</span>                                           \n",
       "                            OK <span style=\"font-weight: bold\">[</span>copied cache<span style=\"font-weight: bold\">]</span>                                                \n",
       "                    Installing htmltools <span style=\"font-weight: bold\">[</span><span style=\"color: #008080; text-decoration-color: #008080; font-weight: bold\">0.5</span>.<span style=\"color: #008080; text-decoration-color: #008080; font-weight: bold\">2</span><span style=\"font-weight: bold\">]</span> <span style=\"color: #808000; text-decoration-color: #808000\">...</span>                                         \n",
       "                            OK <span style=\"font-weight: bold\">[</span>copied cache<span style=\"font-weight: bold\">]</span>                                                \n",
       "                    Installing fontawesome <span style=\"font-weight: bold\">[</span><span style=\"color: #008080; text-decoration-color: #008080; font-weight: bold\">0.2</span>.<span style=\"color: #008080; text-decoration-color: #008080; font-weight: bold\">2</span><span style=\"font-weight: bold\">]</span> <span style=\"color: #808000; text-decoration-color: #808000\">...</span>                                       \n",
       "                            OK <span style=\"font-weight: bold\">[</span>copied cache<span style=\"font-weight: bold\">]</span>                                                \n",
       "                    Installing sourcetools <span style=\"font-weight: bold\">[</span><span style=\"color: #008080; text-decoration-color: #008080; font-weight: bold\">0.1</span>.<span style=\"color: #008080; text-decoration-color: #008080; font-weight: bold\">7</span><span style=\"font-weight: bold\">]</span> <span style=\"color: #808000; text-decoration-color: #808000\">...</span>                                       \n",
       "                            OK <span style=\"font-weight: bold\">[</span>copied cache<span style=\"font-weight: bold\">]</span>                                                \n",
       "                    Installing crayon <span style=\"font-weight: bold\">[</span><span style=\"color: #008080; text-decoration-color: #008080; font-weight: bold\">1.4</span>.<span style=\"color: #008080; text-decoration-color: #008080; font-weight: bold\">2</span><span style=\"font-weight: bold\">]</span> <span style=\"color: #808000; text-decoration-color: #808000\">...</span>                                            \n",
       "                            OK <span style=\"font-weight: bold\">[</span>copied cache<span style=\"font-weight: bold\">]</span>                                                \n",
       "                    Installing withr <span style=\"font-weight: bold\">[</span><span style=\"color: #008080; text-decoration-color: #008080; font-weight: bold\">2.4</span>.<span style=\"color: #008080; text-decoration-color: #008080; font-weight: bold\">3</span><span style=\"font-weight: bold\">]</span> <span style=\"color: #808000; text-decoration-color: #808000\">...</span>                                             \n",
       "                            OK <span style=\"font-weight: bold\">[</span>copied cache<span style=\"font-weight: bold\">]</span>                                                \n",
       "                    Installing commonmark <span style=\"font-weight: bold\">[</span><span style=\"color: #008080; text-decoration-color: #008080; font-weight: bold\">1.7</span><span style=\"font-weight: bold\">]</span> <span style=\"color: #808000; text-decoration-color: #808000\">...</span>                                          \n",
       "                            OK <span style=\"font-weight: bold\">[</span>copied cache<span style=\"font-weight: bold\">]</span>                                                \n",
       "                    Installing glue <span style=\"font-weight: bold\">[</span><span style=\"color: #008080; text-decoration-color: #008080; font-weight: bold\">1.6</span>.<span style=\"color: #008080; text-decoration-color: #008080; font-weight: bold\">0</span><span style=\"font-weight: bold\">]</span> <span style=\"color: #808000; text-decoration-color: #808000\">...</span>                                              \n",
       "                            OK <span style=\"font-weight: bold\">[</span>copied cache<span style=\"font-weight: bold\">]</span>                                                \n",
       "                    Installing fs <span style=\"font-weight: bold\">[</span><span style=\"color: #008080; text-decoration-color: #008080; font-weight: bold\">1.5</span>.<span style=\"color: #008080; text-decoration-color: #008080; font-weight: bold\">2</span><span style=\"font-weight: bold\">]</span> <span style=\"color: #808000; text-decoration-color: #808000\">...</span>                                                \n",
       "                            OK <span style=\"font-weight: bold\">[</span>copied cache<span style=\"font-weight: bold\">]</span>                                                \n",
       "                    Installing rappdirs <span style=\"font-weight: bold\">[</span><span style=\"color: #008080; text-decoration-color: #008080; font-weight: bold\">0.3</span>.<span style=\"color: #008080; text-decoration-color: #008080; font-weight: bold\">3</span><span style=\"font-weight: bold\">]</span> <span style=\"color: #808000; text-decoration-color: #808000\">...</span>                                          \n",
       "                            OK <span style=\"font-weight: bold\">[</span>copied cache<span style=\"font-weight: bold\">]</span>                                                \n",
       "                    Installing sass <span style=\"font-weight: bold\">[</span><span style=\"color: #008080; text-decoration-color: #008080; font-weight: bold\">0.4</span>.<span style=\"color: #008080; text-decoration-color: #008080; font-weight: bold\">0</span><span style=\"font-weight: bold\">]</span> <span style=\"color: #808000; text-decoration-color: #808000\">...</span>                                              \n",
       "                            OK <span style=\"font-weight: bold\">[</span>copied cache<span style=\"font-weight: bold\">]</span>                                                \n",
       "                    Installing jquerylib <span style=\"font-weight: bold\">[</span><span style=\"color: #008080; text-decoration-color: #008080; font-weight: bold\">0.1</span>.<span style=\"color: #008080; text-decoration-color: #008080; font-weight: bold\">4</span><span style=\"font-weight: bold\">]</span> <span style=\"color: #808000; text-decoration-color: #808000\">...</span>                                         \n",
       "                            OK <span style=\"font-weight: bold\">[</span>copied cache<span style=\"font-weight: bold\">]</span>                                                \n",
       "                    Installing bslib <span style=\"font-weight: bold\">[</span><span style=\"color: #008080; text-decoration-color: #008080; font-weight: bold\">0.3</span>.<span style=\"color: #008080; text-decoration-color: #008080; font-weight: bold\">1</span><span style=\"font-weight: bold\">]</span> <span style=\"color: #808000; text-decoration-color: #808000\">...</span>                                             \n",
       "                            OK <span style=\"font-weight: bold\">[</span>copied cache<span style=\"font-weight: bold\">]</span>                                                \n",
       "                    Installing cachem <span style=\"font-weight: bold\">[</span><span style=\"color: #008080; text-decoration-color: #008080; font-weight: bold\">1.0</span>.<span style=\"color: #008080; text-decoration-color: #008080; font-weight: bold\">6</span><span style=\"font-weight: bold\">]</span> <span style=\"color: #808000; text-decoration-color: #808000\">...</span>                                            \n",
       "                            OK <span style=\"font-weight: bold\">[</span>copied cache<span style=\"font-weight: bold\">]</span>                                                \n",
       "                    Installing ellipsis <span style=\"font-weight: bold\">[</span><span style=\"color: #008080; text-decoration-color: #008080; font-weight: bold\">0.3</span>.<span style=\"color: #008080; text-decoration-color: #008080; font-weight: bold\">2</span><span style=\"font-weight: bold\">]</span> <span style=\"color: #808000; text-decoration-color: #808000\">...</span>                                          \n",
       "                            OK <span style=\"font-weight: bold\">[</span>copied cache<span style=\"font-weight: bold\">]</span>                                                \n",
       "                    Installing lifecycle <span style=\"font-weight: bold\">[</span><span style=\"color: #008080; text-decoration-color: #008080; font-weight: bold\">1.0</span>.<span style=\"color: #008080; text-decoration-color: #008080; font-weight: bold\">1</span><span style=\"font-weight: bold\">]</span> <span style=\"color: #808000; text-decoration-color: #808000\">...</span>                                         \n",
       "                            OK <span style=\"font-weight: bold\">[</span>copied cache<span style=\"font-weight: bold\">]</span>                                                \n",
       "                    Installing shiny <span style=\"font-weight: bold\">[</span><span style=\"color: #008080; text-decoration-color: #008080; font-weight: bold\">1.7</span>.<span style=\"color: #008080; text-decoration-color: #008080; font-weight: bold\">1</span><span style=\"font-weight: bold\">]</span> <span style=\"color: #808000; text-decoration-color: #808000\">...</span>                                             \n",
       "                            OK <span style=\"font-weight: bold\">[</span>copied cache<span style=\"font-weight: bold\">]</span>                                                \n",
       "                    Installing demoApp <span style=\"font-weight: bold\">[</span><span style=\"color: #008080; text-decoration-color: #008080; font-weight: bold\">1.0</span>.<span style=\"color: #008080; text-decoration-color: #008080; font-weight: bold\">19</span><span style=\"font-weight: bold\">]</span> <span style=\"color: #808000; text-decoration-color: #808000\">...</span>                                          \n",
       "                            OK <span style=\"font-weight: bold\">[</span>copied cache<span style=\"font-weight: bold\">]</span>                                                \n",
       "                                                                                             \n",
       "</pre>\n"
      ],
      "text/plain": [
       "\u001b[2;36m[10:59:22]\u001b[0m\u001b[2;36m \u001b[0m\u001b[34mINFO    \u001b[0m Installing Rcpp \u001b[1m[\u001b[0m\u001b[1;36m1.0\u001b[0m.\u001b[1;36m7\u001b[0m\u001b[1m]\u001b[0m \u001b[33m...\u001b[0m                             \u001b]8;id=581250;file:///home/chase/miniconda3/envs/socialgene/lib/python3.9/site-packages/electricpie-0.0.0-py3.9.egg/electricpie/utils/run_command.py\u001b\\\u001b[2mrun_command.py\u001b[0m\u001b]8;;\u001b\\\u001b[2m:34\u001b[0m\n",
       "                            OK \u001b[1m[\u001b[0mcopied cache\u001b[1m]\u001b[0m                                                \n",
       "                    Installing R6 \u001b[1m[\u001b[0m\u001b[1;36m2.5\u001b[0m.\u001b[1;36m1\u001b[0m\u001b[1m]\u001b[0m \u001b[33m...\u001b[0m                                                \n",
       "                            OK \u001b[1m[\u001b[0mcopied cache\u001b[1m]\u001b[0m                                                \n",
       "                    Installing rlang \u001b[1m[\u001b[0m\u001b[1;36m0.4\u001b[0m.\u001b[1;36m12\u001b[0m\u001b[1m]\u001b[0m \u001b[33m...\u001b[0m                                            \n",
       "                            OK \u001b[1m[\u001b[0mcopied cache\u001b[1m]\u001b[0m                                                \n",
       "                    Installing later \u001b[1m[\u001b[0m\u001b[1;36m1.3\u001b[0m.\u001b[1;36m0\u001b[0m\u001b[1m]\u001b[0m \u001b[33m...\u001b[0m                                             \n",
       "                            OK \u001b[1m[\u001b[0mcopied cache\u001b[1m]\u001b[0m                                                \n",
       "                    Installing magrittr \u001b[1m[\u001b[0m\u001b[1;36m2.0\u001b[0m.\u001b[1;36m1\u001b[0m\u001b[1m]\u001b[0m \u001b[33m...\u001b[0m                                          \n",
       "                            OK \u001b[1m[\u001b[0mcopied cache\u001b[1m]\u001b[0m                                                \n",
       "                    Installing promises \u001b[1m[\u001b[0m\u001b[1;92m1.2.0.1\u001b[0m\u001b[1m]\u001b[0m \u001b[33m...\u001b[0m                                        \n",
       "                            OK \u001b[1m[\u001b[0mcopied cache\u001b[1m]\u001b[0m                                                \n",
       "                    Installing httpuv \u001b[1m[\u001b[0m\u001b[1;36m1.6\u001b[0m.\u001b[1;36m4\u001b[0m\u001b[1m]\u001b[0m \u001b[33m...\u001b[0m                                            \n",
       "                            OK \u001b[1m[\u001b[0mcopied cache\u001b[1m]\u001b[0m                                                \n",
       "                    Installing mime \u001b[1m[\u001b[0m\u001b[1;36m0.12\u001b[0m\u001b[1m]\u001b[0m \u001b[33m...\u001b[0m                                               \n",
       "                            OK \u001b[1m[\u001b[0mcopied cache\u001b[1m]\u001b[0m                                                \n",
       "                    Installing jsonlite \u001b[1m[\u001b[0m\u001b[1;36m1.7\u001b[0m.\u001b[1;36m2\u001b[0m\u001b[1m]\u001b[0m \u001b[33m...\u001b[0m                                          \n",
       "                            OK \u001b[1m[\u001b[0mcopied cache\u001b[1m]\u001b[0m                                                \n",
       "                    Installing xtable \u001b[1m[\u001b[0m\u001b[1;36m1.8\u001b[0m-\u001b[1;36m4\u001b[0m\u001b[1m]\u001b[0m \u001b[33m...\u001b[0m                                            \n",
       "                            OK \u001b[1m[\u001b[0mcopied cache\u001b[1m]\u001b[0m                                                \n",
       "                    Installing digest \u001b[1m[\u001b[0m\u001b[1;36m0.6\u001b[0m.\u001b[1;36m29\u001b[0m\u001b[1m]\u001b[0m \u001b[33m...\u001b[0m                                           \n",
       "                            OK \u001b[1m[\u001b[0mcopied cache\u001b[1m]\u001b[0m                                                \n",
       "                    Installing base64enc \u001b[1m[\u001b[0m\u001b[1;36m0.1\u001b[0m-\u001b[1;36m3\u001b[0m\u001b[1m]\u001b[0m \u001b[33m...\u001b[0m                                         \n",
       "                            OK \u001b[1m[\u001b[0mcopied cache\u001b[1m]\u001b[0m                                                \n",
       "                    Installing fastmap \u001b[1m[\u001b[0m\u001b[1;36m1.1\u001b[0m.\u001b[1;36m0\u001b[0m\u001b[1m]\u001b[0m \u001b[33m...\u001b[0m                                           \n",
       "                            OK \u001b[1m[\u001b[0mcopied cache\u001b[1m]\u001b[0m                                                \n",
       "                    Installing htmltools \u001b[1m[\u001b[0m\u001b[1;36m0.5\u001b[0m.\u001b[1;36m2\u001b[0m\u001b[1m]\u001b[0m \u001b[33m...\u001b[0m                                         \n",
       "                            OK \u001b[1m[\u001b[0mcopied cache\u001b[1m]\u001b[0m                                                \n",
       "                    Installing fontawesome \u001b[1m[\u001b[0m\u001b[1;36m0.2\u001b[0m.\u001b[1;36m2\u001b[0m\u001b[1m]\u001b[0m \u001b[33m...\u001b[0m                                       \n",
       "                            OK \u001b[1m[\u001b[0mcopied cache\u001b[1m]\u001b[0m                                                \n",
       "                    Installing sourcetools \u001b[1m[\u001b[0m\u001b[1;36m0.1\u001b[0m.\u001b[1;36m7\u001b[0m\u001b[1m]\u001b[0m \u001b[33m...\u001b[0m                                       \n",
       "                            OK \u001b[1m[\u001b[0mcopied cache\u001b[1m]\u001b[0m                                                \n",
       "                    Installing crayon \u001b[1m[\u001b[0m\u001b[1;36m1.4\u001b[0m.\u001b[1;36m2\u001b[0m\u001b[1m]\u001b[0m \u001b[33m...\u001b[0m                                            \n",
       "                            OK \u001b[1m[\u001b[0mcopied cache\u001b[1m]\u001b[0m                                                \n",
       "                    Installing withr \u001b[1m[\u001b[0m\u001b[1;36m2.4\u001b[0m.\u001b[1;36m3\u001b[0m\u001b[1m]\u001b[0m \u001b[33m...\u001b[0m                                             \n",
       "                            OK \u001b[1m[\u001b[0mcopied cache\u001b[1m]\u001b[0m                                                \n",
       "                    Installing commonmark \u001b[1m[\u001b[0m\u001b[1;36m1.7\u001b[0m\u001b[1m]\u001b[0m \u001b[33m...\u001b[0m                                          \n",
       "                            OK \u001b[1m[\u001b[0mcopied cache\u001b[1m]\u001b[0m                                                \n",
       "                    Installing glue \u001b[1m[\u001b[0m\u001b[1;36m1.6\u001b[0m.\u001b[1;36m0\u001b[0m\u001b[1m]\u001b[0m \u001b[33m...\u001b[0m                                              \n",
       "                            OK \u001b[1m[\u001b[0mcopied cache\u001b[1m]\u001b[0m                                                \n",
       "                    Installing fs \u001b[1m[\u001b[0m\u001b[1;36m1.5\u001b[0m.\u001b[1;36m2\u001b[0m\u001b[1m]\u001b[0m \u001b[33m...\u001b[0m                                                \n",
       "                            OK \u001b[1m[\u001b[0mcopied cache\u001b[1m]\u001b[0m                                                \n",
       "                    Installing rappdirs \u001b[1m[\u001b[0m\u001b[1;36m0.3\u001b[0m.\u001b[1;36m3\u001b[0m\u001b[1m]\u001b[0m \u001b[33m...\u001b[0m                                          \n",
       "                            OK \u001b[1m[\u001b[0mcopied cache\u001b[1m]\u001b[0m                                                \n",
       "                    Installing sass \u001b[1m[\u001b[0m\u001b[1;36m0.4\u001b[0m.\u001b[1;36m0\u001b[0m\u001b[1m]\u001b[0m \u001b[33m...\u001b[0m                                              \n",
       "                            OK \u001b[1m[\u001b[0mcopied cache\u001b[1m]\u001b[0m                                                \n",
       "                    Installing jquerylib \u001b[1m[\u001b[0m\u001b[1;36m0.1\u001b[0m.\u001b[1;36m4\u001b[0m\u001b[1m]\u001b[0m \u001b[33m...\u001b[0m                                         \n",
       "                            OK \u001b[1m[\u001b[0mcopied cache\u001b[1m]\u001b[0m                                                \n",
       "                    Installing bslib \u001b[1m[\u001b[0m\u001b[1;36m0.3\u001b[0m.\u001b[1;36m1\u001b[0m\u001b[1m]\u001b[0m \u001b[33m...\u001b[0m                                             \n",
       "                            OK \u001b[1m[\u001b[0mcopied cache\u001b[1m]\u001b[0m                                                \n",
       "                    Installing cachem \u001b[1m[\u001b[0m\u001b[1;36m1.0\u001b[0m.\u001b[1;36m6\u001b[0m\u001b[1m]\u001b[0m \u001b[33m...\u001b[0m                                            \n",
       "                            OK \u001b[1m[\u001b[0mcopied cache\u001b[1m]\u001b[0m                                                \n",
       "                    Installing ellipsis \u001b[1m[\u001b[0m\u001b[1;36m0.3\u001b[0m.\u001b[1;36m2\u001b[0m\u001b[1m]\u001b[0m \u001b[33m...\u001b[0m                                          \n",
       "                            OK \u001b[1m[\u001b[0mcopied cache\u001b[1m]\u001b[0m                                                \n",
       "                    Installing lifecycle \u001b[1m[\u001b[0m\u001b[1;36m1.0\u001b[0m.\u001b[1;36m1\u001b[0m\u001b[1m]\u001b[0m \u001b[33m...\u001b[0m                                         \n",
       "                            OK \u001b[1m[\u001b[0mcopied cache\u001b[1m]\u001b[0m                                                \n",
       "                    Installing shiny \u001b[1m[\u001b[0m\u001b[1;36m1.7\u001b[0m.\u001b[1;36m1\u001b[0m\u001b[1m]\u001b[0m \u001b[33m...\u001b[0m                                             \n",
       "                            OK \u001b[1m[\u001b[0mcopied cache\u001b[1m]\u001b[0m                                                \n",
       "                    Installing demoApp \u001b[1m[\u001b[0m\u001b[1;36m1.0\u001b[0m.\u001b[1;36m19\u001b[0m\u001b[1m]\u001b[0m \u001b[33m...\u001b[0m                                          \n",
       "                            OK \u001b[1m[\u001b[0mcopied cache\u001b[1m]\u001b[0m                                                \n",
       "                                                                                             \n"
      ]
     },
     "metadata": {},
     "output_type": "display_data"
    },
    {
     "data": {
      "text/html": [
       "<pre style=\"white-space:pre;overflow-x:auto;line-height:normal;font-family:Menlo,'DejaVu Sans Mono',consolas,'Courier New',monospace\"><span style=\"color: #008080; text-decoration-color: #008080; font-weight: bold\">2021</span>-<span style=\"color: #008080; text-decoration-color: #008080; font-weight: bold\">12</span>-18T<span style=\"color: #00ff00; text-decoration-color: #00ff00; font-weight: bold\">16:59:22</span>.<span style=\"color: #008080; text-decoration-color: #008080; font-weight: bold\">108701</span>      <span style=\"color: #800080; text-decoration-color: #800080\">/home/chase/Downloads/temp/conda_topdir/bin/</span><span style=\"color: #ff00ff; text-decoration-color: #ff00ff\">conda</span> run -n \n",
       "eshine --live-stream <span style=\"color: #800080; text-decoration-color: #800080\">/home/chase/Downloads/temp/conda_topdir/envs/eshine/lib/R/bin/</span><span style=\"color: #ff00ff; text-decoration-color: #ff00ff\">Rscript</span> -e\n",
       "renv::<span style=\"color: #800080; text-decoration-color: #800080; font-weight: bold\">install</span><span style=\"font-weight: bold\">(</span><span style=\"color: #008000; text-decoration-color: #008000\">'chasemc/demoapp'</span>, repos = <span style=\"color: #008000; text-decoration-color: #008000\">'https://cran.r-project.org'</span>, lib = \n",
       "<span style=\"color: #008000; text-decoration-color: #008000\">'/home/chase/Downloads/temp/conda_topdir/envs/eshine/lib/R/library'</span>, force = FALSE, <span style=\"color: #808000; text-decoration-color: #808000\">project</span>= \n",
       "<span style=\"color: #008000; text-decoration-color: #008000\">'None'</span><span style=\"font-weight: bold\">)</span>\n",
       "</pre>\n"
      ],
      "text/plain": [
       "\u001b[1;36m2021\u001b[0m-\u001b[1;36m12\u001b[0m-18T\u001b[1;92m16:59:22\u001b[0m.\u001b[1;36m108701\u001b[0m      \u001b[35m/home/chase/Downloads/temp/conda_topdir/bin/\u001b[0m\u001b[95mconda\u001b[0m run -n \n",
       "eshine --live-stream \u001b[35m/home/chase/Downloads/temp/conda_topdir/envs/eshine/lib/R/bin/\u001b[0m\u001b[95mRscript\u001b[0m -e\n",
       "renv::\u001b[1;35minstall\u001b[0m\u001b[1m(\u001b[0m\u001b[32m'chasemc/demoapp'\u001b[0m, repos = \u001b[32m'https://cran.r-project.org'\u001b[0m, lib = \n",
       "\u001b[32m'/home/chase/Downloads/temp/conda_topdir/envs/eshine/lib/R/library'\u001b[0m, force = FALSE, \u001b[33mproject\u001b[0m= \n",
       "\u001b[32m'None'\u001b[0m\u001b[1m)\u001b[0m\n"
      ]
     },
     "metadata": {},
     "output_type": "display_data"
    }
   ],
   "source": [
    "my_object.install_r_package_With_renv(env_name=\"eshine\", package=\"chasemc/demoapp\")"
   ]
  },
  {
   "cell_type": "markdown",
   "metadata": {},
   "source": [
    "This is where you have the option of packaging the app as all-inclusive or as a basically a set of instructions of what to install on the user's machine."
   ]
  },
  {
   "cell_type": "markdown",
   "metadata": {},
   "source": [
    "## Install all dependencies on user-side"
   ]
  },
  {
   "cell_type": "markdown",
   "metadata": {},
   "source": [
    "Export the Shiny app's conda environment and renv lockfile"
   ]
  },
  {
   "cell_type": "code",
   "execution_count": 56,
   "metadata": {},
   "outputs": [
    {
     "data": {
      "text/html": [
       "<pre style=\"white-space:pre;overflow-x:auto;line-height:normal;font-family:Menlo,'DejaVu Sans Mono',consolas,'Courier New',monospace\"><span style=\"color: #7fbfbf; text-decoration-color: #7fbfbf\">[10:59:38] </span><span style=\"color: #000080; text-decoration-color: #000080\">INFO    </span> <span style=\"color: #800080; text-decoration-color: #800080\">/home/chase/Downloads/temp/conda_topdir/bin/</span><span style=\"color: #ff00ff; text-decoration-color: #ff00ff\">conda</span> env   <a href=\"file:///home/chase/miniconda3/envs/socialgene/lib/python3.9/site-packages/electricpie-0.0.0-py3.9.egg/electricpie/utils/run_command.py\"><span style=\"color: #7f7f7f; text-decoration-color: #7f7f7f\">run_command.py</span></a><span style=\"color: #7f7f7f; text-decoration-color: #7f7f7f\">:32</span>\n",
       "                    export -n eshine &gt;                                                       \n",
       "                    <span style=\"color: #800080; text-decoration-color: #800080\">/home/chase/Downloads/temp/</span><span style=\"color: #ff00ff; text-decoration-color: #ff00ff\">conda_dependencies.yml</span>                        \n",
       "</pre>\n"
      ],
      "text/plain": [
       "\u001b[2;36m[10:59:38]\u001b[0m\u001b[2;36m \u001b[0m\u001b[34mINFO    \u001b[0m \u001b[35m/home/chase/Downloads/temp/conda_topdir/bin/\u001b[0m\u001b[95mconda\u001b[0m env   \u001b]8;id=929247;file:///home/chase/miniconda3/envs/socialgene/lib/python3.9/site-packages/electricpie-0.0.0-py3.9.egg/electricpie/utils/run_command.py\u001b\\\u001b[2mrun_command.py\u001b[0m\u001b]8;;\u001b\\\u001b[2m:32\u001b[0m\n",
       "                    export -n eshine >                                                       \n",
       "                    \u001b[35m/home/chase/Downloads/temp/\u001b[0m\u001b[95mconda_dependencies.yml\u001b[0m                        \n"
      ]
     },
     "metadata": {},
     "output_type": "display_data"
    },
    {
     "data": {
      "text/html": [
       "<pre style=\"white-space:pre;overflow-x:auto;line-height:normal;font-family:Menlo,'DejaVu Sans Mono',consolas,'Courier New',monospace\"><span style=\"color: #7fbfbf; text-decoration-color: #7fbfbf\">           </span><span style=\"color: #000080; text-decoration-color: #000080\">INFO    </span>                                                         <a href=\"file:///home/chase/miniconda3/envs/socialgene/lib/python3.9/site-packages/electricpie-0.0.0-py3.9.egg/electricpie/utils/run_command.py\"><span style=\"color: #7f7f7f; text-decoration-color: #7f7f7f\">run_command.py</span></a><span style=\"color: #7f7f7f; text-decoration-color: #7f7f7f\">:34</span>\n",
       "</pre>\n"
      ],
      "text/plain": [
       "\u001b[2;36m          \u001b[0m\u001b[2;36m \u001b[0m\u001b[34mINFO    \u001b[0m                                                         \u001b]8;id=237622;file:///home/chase/miniconda3/envs/socialgene/lib/python3.9/site-packages/electricpie-0.0.0-py3.9.egg/electricpie/utils/run_command.py\u001b\\\u001b[2mrun_command.py\u001b[0m\u001b]8;;\u001b\\\u001b[2m:34\u001b[0m\n"
      ]
     },
     "metadata": {},
     "output_type": "display_data"
    },
    {
     "data": {
      "text/html": [
       "<pre style=\"white-space:pre;overflow-x:auto;line-height:normal;font-family:Menlo,'DejaVu Sans Mono',consolas,'Courier New',monospace\"><span style=\"color: #7fbfbf; text-decoration-color: #7fbfbf\">           </span><span style=\"color: #000080; text-decoration-color: #000080\">INFO    </span> <span style=\"color: #800080; text-decoration-color: #800080\">/home/chase/Downloads/temp/conda_topdir/bin/</span><span style=\"color: #ff00ff; text-decoration-color: #ff00ff\">conda</span> run   <a href=\"file:///home/chase/miniconda3/envs/socialgene/lib/python3.9/site-packages/electricpie-0.0.0-py3.9.egg/electricpie/utils/run_command.py\"><span style=\"color: #7f7f7f; text-decoration-color: #7f7f7f\">run_command.py</span></a><span style=\"color: #7f7f7f; text-decoration-color: #7f7f7f\">:32</span>\n",
       "                    -n eshine --live-stream <span style=\"color: #800080; text-decoration-color: #800080\">/home/chase/Downloads/temp/cond</span>                  \n",
       "                    <span style=\"color: #800080; text-decoration-color: #800080\">a_topdir/envs/eshine/lib/R/bin/</span><span style=\"color: #ff00ff; text-decoration-color: #ff00ff\">Rscript</span> -e renv::<span style=\"color: #800080; text-decoration-color: #800080; font-weight: bold\">snapsho</span>                  \n",
       "                    <span style=\"color: #800080; text-decoration-color: #800080; font-weight: bold\">t</span><span style=\"font-weight: bold\">(</span><span style=\"color: #808000; text-decoration-color: #808000\">project</span>=<span style=\"color: #008000; text-decoration-color: #008000\">\"None\"</span>,<span style=\"color: #808000; text-decoration-color: #808000\">library</span>=<span style=\"color: #008000; text-decoration-color: #008000\">\"/home/chase/Downloads/temp/co</span>                  \n",
       "                    <span style=\"color: #008000; text-decoration-color: #008000\">nda_topdir/envs/eshine/lib/R/library\"</span>,<span style=\"color: #808000; text-decoration-color: #808000\">lockfile</span>=<span style=\"color: #008000; text-decoration-color: #008000\">\"/home/c</span>                  \n",
       "                    <span style=\"color: #008000; text-decoration-color: #008000\">hase/Downloads/temp/renv_dependencies.lock\"</span>,<span style=\"color: #808000; text-decoration-color: #808000\">packages</span>=<span style=\"color: #800080; text-decoration-color: #800080\">NU</span>                  \n",
       "                    <span style=\"color: #800080; text-decoration-color: #800080\">LL</span>,<span style=\"color: #808000; text-decoration-color: #808000\">type</span>=<span style=\"color: #008000; text-decoration-color: #008000\">\"all\"</span>,<span style=\"color: #808000; text-decoration-color: #808000\">prompt</span>=<span style=\"color: #800080; text-decoration-color: #800080\">FALSE</span>,<span style=\"color: #808000; text-decoration-color: #808000\">force</span>=<span style=\"color: #800080; text-decoration-color: #800080\">FALSE</span><span style=\"font-weight: bold\">)</span>                                  \n",
       "</pre>\n"
      ],
      "text/plain": [
       "\u001b[2;36m          \u001b[0m\u001b[2;36m \u001b[0m\u001b[34mINFO    \u001b[0m \u001b[35m/home/chase/Downloads/temp/conda_topdir/bin/\u001b[0m\u001b[95mconda\u001b[0m run   \u001b]8;id=849809;file:///home/chase/miniconda3/envs/socialgene/lib/python3.9/site-packages/electricpie-0.0.0-py3.9.egg/electricpie/utils/run_command.py\u001b\\\u001b[2mrun_command.py\u001b[0m\u001b]8;;\u001b\\\u001b[2m:32\u001b[0m\n",
       "                    -n eshine --live-stream \u001b[35m/home/chase/Downloads/temp/cond\u001b[0m                  \n",
       "                    \u001b[35ma_topdir/envs/eshine/lib/R/bin/\u001b[0m\u001b[95mRscript\u001b[0m -e renv::\u001b[1;35msnapsho\u001b[0m                  \n",
       "                    \u001b[1;35mt\u001b[0m\u001b[1m(\u001b[0m\u001b[33mproject\u001b[0m=\u001b[32m\"None\"\u001b[0m,\u001b[33mlibrary\u001b[0m=\u001b[32m\"/home/chase/Downloads/temp/co\u001b[0m                  \n",
       "                    \u001b[32mnda_topdir/envs/eshine/lib/R/library\"\u001b[0m,\u001b[33mlockfile\u001b[0m=\u001b[32m\"/home/c\u001b[0m                  \n",
       "                    \u001b[32mhase/Downloads/temp/renv_dependencies.lock\"\u001b[0m,\u001b[33mpackages\u001b[0m=\u001b[35mNU\u001b[0m                  \n",
       "                    \u001b[35mLL\u001b[0m,\u001b[33mtype\u001b[0m=\u001b[32m\"all\"\u001b[0m,\u001b[33mprompt\u001b[0m=\u001b[35mFALSE\u001b[0m,\u001b[33mforce\u001b[0m=\u001b[35mFALSE\u001b[0m\u001b[1m)\u001b[0m                                  \n"
      ]
     },
     "metadata": {},
     "output_type": "display_data"
    },
    {
     "name": "stderr",
     "output_type": "stream",
     "text": [
      "The following package(s) will be updated in the lockfile:\n"
     ]
    },
    {
     "data": {
      "text/html": [
       "<pre style=\"white-space:pre;overflow-x:auto;line-height:normal;font-family:Menlo,'DejaVu Sans Mono',consolas,'Courier New',monospace\"><span style=\"color: #7fbfbf; text-decoration-color: #7fbfbf\">[10:59:39] </span><span style=\"color: #000080; text-decoration-color: #000080\">INFO    </span> * Lockfile written to                                   <a href=\"file:///home/chase/miniconda3/envs/socialgene/lib/python3.9/site-packages/electricpie-0.0.0-py3.9.egg/electricpie/utils/run_command.py\"><span style=\"color: #7f7f7f; text-decoration-color: #7f7f7f\">run_command.py</span></a><span style=\"color: #7f7f7f; text-decoration-color: #7f7f7f\">:34</span>\n",
       "                    <span style=\"color: #008000; text-decoration-color: #008000\">'~/Downloads/temp/renv_dependencies.lock'</span>.                               \n",
       "                                                                                             \n",
       "</pre>\n"
      ],
      "text/plain": [
       "\u001b[2;36m[10:59:39]\u001b[0m\u001b[2;36m \u001b[0m\u001b[34mINFO    \u001b[0m * Lockfile written to                                   \u001b]8;id=68636;file:///home/chase/miniconda3/envs/socialgene/lib/python3.9/site-packages/electricpie-0.0.0-py3.9.egg/electricpie/utils/run_command.py\u001b\\\u001b[2mrun_command.py\u001b[0m\u001b]8;;\u001b\\\u001b[2m:34\u001b[0m\n",
       "                    \u001b[32m'~/Downloads/temp/renv_dependencies.lock'\u001b[0m.                               \n",
       "                                                                                             \n"
      ]
     },
     "metadata": {},
     "output_type": "display_data"
    },
    {
     "data": {
      "text/html": [
       "<pre style=\"white-space:pre;overflow-x:auto;line-height:normal;font-family:Menlo,'DejaVu Sans Mono',consolas,'Courier New',monospace\"><span style=\"color: #008080; text-decoration-color: #008080; font-weight: bold\">2021</span>-<span style=\"color: #008080; text-decoration-color: #008080; font-weight: bold\">12</span>-18T<span style=\"color: #00ff00; text-decoration-color: #00ff00; font-weight: bold\">16:59:39</span>.<span style=\"color: #008080; text-decoration-color: #008080; font-weight: bold\">691046</span>      <span style=\"color: #800080; text-decoration-color: #800080\">/home/chase/Downloads/temp/conda_topdir/bin/</span><span style=\"color: #ff00ff; text-decoration-color: #ff00ff\">conda</span> run -n \n",
       "eshine --live-stream <span style=\"color: #800080; text-decoration-color: #800080\">/home/chase/Downloads/temp/conda_topdir/envs/eshine/lib/R/bin/</span><span style=\"color: #ff00ff; text-decoration-color: #ff00ff\">Rscript</span> -e\n",
       "renv::<span style=\"color: #800080; text-decoration-color: #800080; font-weight: bold\">snapshot</span><span style=\"font-weight: bold\">(</span><span style=\"color: #808000; text-decoration-color: #808000\">project</span>=<span style=\"color: #008000; text-decoration-color: #008000\">\"None\"</span>,<span style=\"color: #808000; text-decoration-color: #808000\">library</span>=<span style=\"color: #008000; text-decoration-color: #008000\">\"/home/chase/Downloads/temp/conda_topdir/envs/eshine/li</span>\n",
       "<span style=\"color: #008000; text-decoration-color: #008000\">b/R/library\"</span>,<span style=\"color: #808000; text-decoration-color: #808000\">lockfile</span>=<span style=\"color: #008000; text-decoration-color: #008000\">\"/home/chase/Downloads/temp/renv_dependencies.lock\"</span>,<span style=\"color: #808000; text-decoration-color: #808000\">packages</span>=<span style=\"color: #800080; text-decoration-color: #800080\">NULL</span>,<span style=\"color: #808000; text-decoration-color: #808000\">type</span>=\n",
       "<span style=\"color: #008000; text-decoration-color: #008000\">\"all\"</span>,<span style=\"color: #808000; text-decoration-color: #808000\">prompt</span>=<span style=\"color: #800080; text-decoration-color: #800080\">FALSE</span>,<span style=\"color: #808000; text-decoration-color: #808000\">force</span>=<span style=\"color: #800080; text-decoration-color: #800080\">FALSE</span><span style=\"font-weight: bold\">)</span>\n",
       "</pre>\n"
      ],
      "text/plain": [
       "\u001b[1;36m2021\u001b[0m-\u001b[1;36m12\u001b[0m-18T\u001b[1;92m16:59:39\u001b[0m.\u001b[1;36m691046\u001b[0m      \u001b[35m/home/chase/Downloads/temp/conda_topdir/bin/\u001b[0m\u001b[95mconda\u001b[0m run -n \n",
       "eshine --live-stream \u001b[35m/home/chase/Downloads/temp/conda_topdir/envs/eshine/lib/R/bin/\u001b[0m\u001b[95mRscript\u001b[0m -e\n",
       "renv::\u001b[1;35msnapshot\u001b[0m\u001b[1m(\u001b[0m\u001b[33mproject\u001b[0m=\u001b[32m\"None\"\u001b[0m,\u001b[33mlibrary\u001b[0m=\u001b[32m\"/home/chase/Downloads/temp/conda_topdir/envs/eshine/li\u001b[0m\n",
       "\u001b[32mb/R/library\"\u001b[0m,\u001b[33mlockfile\u001b[0m=\u001b[32m\"/home/chase/Downloads/temp/renv_dependencies.lock\"\u001b[0m,\u001b[33mpackages\u001b[0m=\u001b[35mNULL\u001b[0m,\u001b[33mtype\u001b[0m=\n",
       "\u001b[32m\"all\"\u001b[0m,\u001b[33mprompt\u001b[0m=\u001b[35mFALSE\u001b[0m,\u001b[33mforce\u001b[0m=\u001b[35mFALSE\u001b[0m\u001b[1m)\u001b[0m\n"
      ]
     },
     "metadata": {},
     "output_type": "display_data"
    }
   ],
   "source": [
    "my_object.export_env(\"eshine\")\n",
    "my_object.renv_snap(env_name=\"eshine\")"
   ]
  }
 ],
 "metadata": {
  "interpreter": {
   "hash": "916dbcbb3f70747c44a77c7bcd40155683ae19c65e1c03b4aa3499c5328201f1"
  },
  "kernelspec": {
   "display_name": "Python 3.8.10 64-bit",
   "language": "python",
   "name": "python3"
  },
  "language_info": {
   "codemirror_mode": {
    "name": "ipython",
    "version": 3
   },
   "file_extension": ".py",
   "mimetype": "text/x-python",
   "name": "python",
   "nbconvert_exporter": "python",
   "pygments_lexer": "ipython3",
   "version": "3.9.0"
  },
  "orig_nbformat": 4
 },
 "nbformat": 4,
 "nbformat_minor": 2
}
